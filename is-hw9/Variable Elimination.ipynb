{
 "cells": [
  {
   "cell_type": "markdown",
   "metadata": {},
   "source": [
    "# Bayesian Networks\n",
    "\n",
    "Result of the inference using SamIam\n",
    "\n",
    "![title](images/samiam.png)"
   ]
  },
  {
   "cell_type": "markdown",
   "metadata": {},
   "source": [
    "Now we implement our Variable Elimination"
   ]
  },
  {
   "cell_type": "code",
   "execution_count": 1,
   "metadata": {},
   "outputs": [],
   "source": [
    "import networkx as nx\n",
    "import itertools\n",
    "import numbers\n",
    "import pprint\n",
    "import operator\n",
    "import matplotlib.pyplot as plt\n",
    "from functools import reduce\n",
    "\n",
    "\n",
    "pp = pprint.PrettyPrinter(indent=4)\n",
    "\n",
    "\n",
    "def prod(iterable):\n",
    "    return reduce(operator.mul, iterable, 1)\n",
    "\n",
    "\n",
    "class BayesianNetwork(object):\n",
    "    def __init__(self):\n",
    "        self.variables = {}\n",
    "        self.G = nx.DiGraph()\n",
    "        self.CPD = {}\n",
    "\n",
    "    def add_variable(self, variable, parent=None):\n",
    "        self.G.add_node(variable)\n",
    "        if parent is not None and parent in self.G.nodes:\n",
    "            self.G.add_edge(parent, variable)\n",
    "\n",
    "    def add_cpd(self, variable, table):\n",
    "        # Todo: verify if the table corresponds to the variable\n",
    "        if variable not in self.G.nodes:\n",
    "            print('%s variable doesn\\'t exist.', variable)\n",
    "            print('Valids are:', self.G.nodes)\n",
    "            return\n",
    "        self.CPD[variable] = table\n",
    "\n",
    "    def plot(self):\n",
    "        pos = nx.spring_layout(self.G)\n",
    "        nx.draw(self.G, pos)\n",
    "        nx.draw_networkx_labels(self.G, pos)\n",
    "\n",
    "        plt.show()\n",
    "\n",
    "    def infer(self, variable):\n",
    "        \"\"\"\n",
    "        Implement infer using variable elimination\n",
    "        \"\"\"\n",
    "        parents = self.G.in_edges(variable)\n",
    "        if not parents:\n",
    "            return self.CPD.get(variable, [])\n",
    "\n",
    "        cpd_parents = []\n",
    "        for parent, _ in parents:\n",
    "            cpd_parents.append(self.infer(parent))\n",
    "        cpd = self.CPD.get(variable)\n",
    "\n",
    "        x = [prod(i) for i in itertools.product(*cpd_parents)]\n",
    "        res = []\n",
    "        for elems in zip(*cpd):\n",
    "            res.append(\n",
    "                sum([e * i for e, i in zip(elems, x)]))\n",
    "        return res"
   ]
  },
  {
   "cell_type": "markdown",
   "metadata": {},
   "source": [
    "We are going to model the student bayesian network. First we are going to add all the variables:"
   ]
  },
  {
   "cell_type": "code",
   "execution_count": 2,
   "metadata": {},
   "outputs": [],
   "source": [
    "model = BayesianNetwork()\n",
    "model.add_variable('diff')\n",
    "model.add_variable('intel')\n",
    "model.add_variable('grade', 'intel')\n",
    "model.add_variable('grade', 'diff')\n",
    "model.add_variable('letter', 'grade')\n",
    "model.add_variable('sat', 'intel')"
   ]
  },
  {
   "cell_type": "markdown",
   "metadata": {},
   "source": [
    "Check if the model is ok"
   ]
  },
  {
   "cell_type": "code",
   "execution_count": 3,
   "metadata": {},
   "outputs": [
    {
     "data": {
      "image/png": "[encoded data removed]",
      "text/plain": [
       "<Figure size 432x288 with 1 Axes>"
      ]
     },
     "metadata": {},
     "output_type": "display_data"
    }
   ],
   "source": [
    "model.plot()"
   ]
  },
  {
   "cell_type": "markdown",
   "metadata": {},
   "source": [
    "Now, we are going to add the CPD for the model"
   ]
  },
  {
   "cell_type": "code",
   "execution_count": 4,
   "metadata": {},
   "outputs": [],
   "source": [
    "model.add_cpd('diff', [0.6, 0.4])\n",
    "model.add_cpd('intel', [0.7, 0.3])\n",
    "model.add_cpd('sat', [[0.95, 0.05], [0.2, 0.8]])\n",
    "model.add_cpd(\n",
    "    'grade',\n",
    "    [\n",
    "        [0.3, 0.4, 0.3],\n",
    "        [0.05, 0.25, 0.7],\n",
    "        [0.9, 0.08, 0.02],\n",
    "        [0.5, 0.3, 0.2],\n",
    "    ]\n",
    ")\n",
    "model.add_cpd('letter', [[0.1, 0.9], [0.4, 0.6], [0.99, 0.01]])"
   ]
  },
  {
   "cell_type": "markdown",
   "metadata": {},
   "source": [
    "and now check if the inferences are the same"
   ]
  },
  {
   "cell_type": "code",
   "execution_count": 6,
   "metadata": {},
   "outputs": [
    {
     "data": {
      "text/plain": [
       "[0.6, 0.4]"
      ]
     },
     "execution_count": 6,
     "metadata": {},
     "output_type": "execute_result"
    }
   ],
   "source": [
    "model.infer('diff')"
   ]
  },
  {
   "cell_type": "code",
   "execution_count": 7,
   "metadata": {},
   "outputs": [
    {
     "data": {
      "text/plain": [
       "[0.7, 0.3]"
      ]
     },
     "execution_count": 7,
     "metadata": {},
     "output_type": "execute_result"
    }
   ],
   "source": [
    "model.infer('intel')"
   ]
  },
  {
   "cell_type": "code",
   "execution_count": 8,
   "metadata": {},
   "outputs": [
    {
     "data": {
      "text/plain": [
       "[0.7249999999999999, 0.27499999999999997]"
      ]
     },
     "execution_count": 8,
     "metadata": {},
     "output_type": "execute_result"
    }
   ],
   "source": [
    "model.infer('sat')"
   ]
  },
  {
   "cell_type": "code",
   "execution_count": 9,
   "metadata": {},
   "outputs": [
    {
     "data": {
      "text/plain": [
       "[0.36200000000000004, 0.2884, 0.34959999999999997]"
      ]
     },
     "execution_count": 9,
     "metadata": {},
     "output_type": "execute_result"
    }
   ],
   "source": [
    "model.infer('grade')"
   ]
  },
  {
   "cell_type": "code",
   "execution_count": 10,
   "metadata": {},
   "outputs": [
    {
     "data": {
      "text/plain": [
       "[0.497664, 0.5023360000000001]"
      ]
     },
     "execution_count": 10,
     "metadata": {},
     "output_type": "execute_result"
    }
   ],
   "source": [
    "model.infer('letter')"
   ]
  },
  {
   "cell_type": "markdown",
   "metadata": {},
   "source": [
    "As we can see we have the same values"
   ]
  },
  {
   "cell_type": "code",
   "execution_count": null,
   "metadata": {},
   "outputs": [],
   "source": []
  }
 ],
 "metadata": {
  "kernelspec": {
   "display_name": "Python 3",
   "language": "python",
   "name": "python3"
  },
  "language_info": {
   "codemirror_mode": {
    "name": "ipython",
    "version": 3
   },
   "file_extension": ".py",
   "mimetype": "text/x-python",
   "name": "python",
   "nbconvert_exporter": "python",
   "pygments_lexer": "ipython3",
   "version": "3.6.7"
  }
 },
 "nbformat": 4,
 "nbformat_minor": 2
}
