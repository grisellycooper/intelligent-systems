{
 "cells": [
  {
   "cell_type": "code",
   "execution_count": 97,
   "metadata": {},
   "outputs": [],
   "source": [
    "import cv2 as cv\n",
    "import numpy as np\n",
    "from matplotlib import pyplot as plt\n",
    "from random import randint\n",
    "import time"
   ]
  },
  {
   "cell_type": "code",
   "execution_count": 37,
   "metadata": {},
   "outputs": [],
   "source": [
    "def rotateImage(image, angle):\n",
    "    image_center = tuple(np.array(image.shape[1::-1]) / 2)\n",
    "    rot_mat = cv.getRotationMatrix2D(image_center, angle, 1.0)\n",
    "    result = cv.warpAffine(image, rot_mat, image.shape[1::-1], flags=cv.INTER_LINEAR)\n",
    "    return result"
   ]
  },
  {
   "cell_type": "code",
   "execution_count": 104,
   "metadata": {},
   "outputs": [],
   "source": [
    "def create_random_number(number):\n",
    "    rotation = randint(-5, 5)\n",
    "    img = np.zeros((28,28,3), np.uint8)\n",
    "    \n",
    "    scales = {\n",
    "        1: 2,\n",
    "        5: 1.5,\n",
    "    }\n",
    "\n",
    "    font                   = randint(0, 7)\n",
    "    bottomLeftCornerOfText = (4,24)\n",
    "    fontScale              = scales.get(font, 1)\n",
    "    fontColor              = (255,255,255)\n",
    "    lineType               = 2\n",
    "\n",
    "    cv.putText(img, number, \n",
    "        bottomLeftCornerOfText, \n",
    "        font, \n",
    "        fontScale,\n",
    "        fontColor,\n",
    "        lineType)\n",
    "\n",
    "    img = rotateImage(img, rotation)\n",
    "    \n",
    "    return img\n",
    "\n",
    "img = create_random_number('6')\n",
    "# for i in range(20):\n",
    "    \n",
    "#    plt.imshow(img)\n",
    "#    print('i', i)"
   ]
  },
  {
   "cell_type": "code",
   "execution_count": null,
   "metadata": {},
   "outputs": [],
   "source": []
  },
  {
   "cell_type": "code",
   "execution_count": null,
   "metadata": {},
   "outputs": [],
   "source": []
  }
 ],
 "metadata": {
  "kernelspec": {
   "display_name": "Python 3",
   "language": "python",
   "name": "python3"
  },
  "language_info": {
   "codemirror_mode": {
    "name": "ipython",
    "version": 3
   },
   "file_extension": ".py",
   "mimetype": "text/x-python",
   "name": "python",
   "nbconvert_exporter": "python",
   "pygments_lexer": "ipython3",
   "version": "3.6.7"
  }
 },
 "nbformat": 4,
 "nbformat_minor": 2
}
