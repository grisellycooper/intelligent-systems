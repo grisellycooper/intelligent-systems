{
 "cells": [
  {
   "cell_type": "markdown",
   "metadata": {},
   "source": [
    "# Hidden Markov Network\n",
    "\n",
    "We are going to use the data from https://www.clips.uantwerpen.be/conll2002/ner/\n",
    "\n",
    "## Import the data"
   ]
  },
  {
   "cell_type": "code",
   "execution_count": 1,
   "metadata": {},
   "outputs": [],
   "source": [
    "f = open('esp.train', encoding='latin-1')\n",
    "lines = f.readlines()\n",
    "f.close()"
   ]
  },
  {
   "cell_type": "markdown",
   "metadata": {},
   "source": [
    "We are going to get the states and the start PI probability for each tag"
   ]
  },
  {
   "cell_type": "code",
   "execution_count": 3,
   "metadata": {},
   "outputs": [],
   "source": [
    "from collections import Counter\n",
    "\n",
    "states = []\n",
    "\n",
    "states_occurrences = Counter()\n",
    "\n",
    "data = []\n",
    "words_list = []\n",
    "\n",
    "for line in lines:\n",
    "    words = line.split()\n",
    "    if len(words) != 2:\n",
    "        continue\n",
    "    if words[0] not in words_list:\n",
    "        words_list.append(words[0])\n",
    "    data.append(words)\n",
    "    states_occurrences[words[1]] += 1\n",
    "\n",
    "len_data = len(data)\n",
    "\n",
    "start_probability = {\n",
    "    k: (v / len_data) for k, v in states_occurrences.items()\n",
    "}"
   ]
  },
  {
   "cell_type": "markdown",
   "metadata": {},
   "source": [
    "Now we are going to get the transition probability"
   ]
  },
  {
   "cell_type": "code",
   "execution_count": 4,
   "metadata": {},
   "outputs": [],
   "source": [
    "transition_probability = []\n",
    "\n",
    "states_list = states_occurrences.keys()\n",
    "\n",
    "for state in states_list:\n",
    "    eachProb = []\n",
    "\n",
    "    for each_state in states_list:\n",
    "        count_transition = 0\n",
    "        count_state = 0\n",
    "        for x in range(len(data) - 1):\n",
    "            first = data[x]\n",
    "            second = data[x + 1]\n",
    "            if first[1] == state:\n",
    "                count_state += 1\n",
    "                if second[1] == each_state:\n",
    "                    count_transition += 1\n",
    "        eachProb.append(count_transition / count_state)\n",
    "    transition_probability.append(eachProb)"
   ]
  },
  {
   "cell_type": "code",
   "execution_count": 5,
   "metadata": {},
   "outputs": [
    {
     "data": {
      "text/plain": [
       "[[0.005292082230816202,\n",
       "  0.7748829635660492,\n",
       "  0.0,\n",
       "  0.002646041115408101,\n",
       "  0.0,\n",
       "  0.0,\n",
       "  0.0,\n",
       "  0.21717891308772644,\n",
       "  0.0],\n",
       " [0.020770182693095433,\n",
       "  0.9199030696061987,\n",
       "  0.031791271952707624,\n",
       "  0.01820463178954721,\n",
       "  0.0,\n",
       "  0.009330843958451011,\n",
       "  0.0,\n",
       "  0.0,\n",
       "  0.0],\n",
       " [0.0040595399188092015,\n",
       "  0.6863328822733423,\n",
       "  0.00013531799729364006,\n",
       "  0.005953991880920162,\n",
       "  0.0,\n",
       "  0.00013531799729364006,\n",
       "  0.303382949932341,\n",
       "  0.0,\n",
       "  0.0],\n",
       " [0.0006942837306179125,\n",
       "  0.333256190696598,\n",
       "  0.00023142791020597085,\n",
       "  0.00023142791020597085,\n",
       "  0.6655866697523721,\n",
       "  0.0,\n",
       "  0.0,\n",
       "  0.0,\n",
       "  0.0],\n",
       " [0.0058929028952088135,\n",
       "  0.7294388931591084,\n",
       "  0.0,\n",
       "  0.0015372790161414297,\n",
       "  0.2631309249295414,\n",
       "  0.0,\n",
       "  0.0,\n",
       "  0.0,\n",
       "  0.0],\n",
       " [0.0027611596870685687,\n",
       "  0.41187298665439487,\n",
       "  0.004601932811780948,\n",
       "  0.0032213529682466636,\n",
       "  0.0,\n",
       "  0.0,\n",
       "  0.0,\n",
       "  0.0,\n",
       "  0.577542567878509],\n",
       " [0.00040064102564102563,\n",
       "  0.4439102564102564,\n",
       "  0.0006009615384615385,\n",
       "  0.004006410256410256,\n",
       "  0.0,\n",
       "  0.00020032051282051281,\n",
       "  0.5508814102564102,\n",
       "  0.0,\n",
       "  0.0],\n",
       " [0.0010576414595452142,\n",
       "  0.5631940772078265,\n",
       "  0.0,\n",
       "  0.0,\n",
       "  0.0,\n",
       "  0.0,\n",
       "  0.0,\n",
       "  0.4357482813326282,\n",
       "  0.0],\n",
       " [0.0009339975093399751,\n",
       "  0.3844956413449564,\n",
       "  0.0006226650062266501,\n",
       "  0.0024906600249066002,\n",
       "  0.0,\n",
       "  0.0021793275217932753,\n",
       "  0.0,\n",
       "  0.0,\n",
       "  0.6092777085927771]]"
      ]
     },
     "execution_count": 5,
     "metadata": {},
     "output_type": "execute_result"
    }
   ],
   "source": [
    "transition_probability"
   ]
  },
  {
   "cell_type": "markdown",
   "metadata": {},
   "source": [
    "We want to check probabilities of each tag."
   ]
  },
  {
   "cell_type": "code",
   "execution_count": 6,
   "metadata": {},
   "outputs": [
    {
     "data": {
      "text/plain": [
       "{'B-LOC': 0.01855958294769847,\n",
       " 'O': 0.8761120450295601,\n",
       " 'B-ORG': 0.02791681619855316,\n",
       " 'B-PER': 0.016323215533687173,\n",
       " 'I-PER': 0.014744158812307576,\n",
       " 'B-MISC': 0.008208828362578623,\n",
       " 'I-ORG': 0.018858017112743895,\n",
       " 'I-LOC': 0.007143531722796215,\n",
       " 'I-MISC': 0.012133804280074798}"
      ]
     },
     "execution_count": 6,
     "metadata": {},
     "output_type": "execute_result"
    }
   ],
   "source": [
    "start_probability"
   ]
  },
  {
   "cell_type": "markdown",
   "metadata": {},
   "source": [
    "Now we are going to calculate the emission probability"
   ]
  },
  {
   "cell_type": "code",
   "execution_count": 7,
   "metadata": {},
   "outputs": [
    {
     "ename": "KeyboardInterrupt",
     "evalue": "",
     "output_type": "error",
     "traceback": [
      "\u001b[0;31m---------------------------------------------------------------------------\u001b[0m",
      "\u001b[0;31mKeyboardInterrupt\u001b[0m                         Traceback (most recent call last)",
      "\u001b[0;32m<ipython-input-7-36ff90842cfc>\u001b[0m in \u001b[0;36m<module>\u001b[0;34m\u001b[0m\n\u001b[1;32m      7\u001b[0m         \u001b[0mcount\u001b[0m \u001b[0;34m=\u001b[0m \u001b[0;36m0\u001b[0m\u001b[0;34m\u001b[0m\u001b[0;34m\u001b[0m\u001b[0m\n\u001b[1;32m      8\u001b[0m         \u001b[0;32mfor\u001b[0m \u001b[0mword_data\u001b[0m\u001b[0;34m,\u001b[0m \u001b[0mtag_data\u001b[0m \u001b[0;32min\u001b[0m \u001b[0mdata\u001b[0m\u001b[0;34m:\u001b[0m\u001b[0;34m\u001b[0m\u001b[0;34m\u001b[0m\u001b[0m\n\u001b[0;32m----> 9\u001b[0;31m             \u001b[0;32mif\u001b[0m \u001b[0mword\u001b[0m \u001b[0;34m==\u001b[0m \u001b[0mword_data\u001b[0m \u001b[0;32mand\u001b[0m \u001b[0mtag_data\u001b[0m \u001b[0;34m==\u001b[0m \u001b[0mstate\u001b[0m\u001b[0;34m:\u001b[0m\u001b[0;34m\u001b[0m\u001b[0;34m\u001b[0m\u001b[0m\n\u001b[0m\u001b[1;32m     10\u001b[0m                 \u001b[0mcount\u001b[0m \u001b[0;34m+=\u001b[0m \u001b[0;36m1\u001b[0m\u001b[0;34m\u001b[0m\u001b[0;34m\u001b[0m\u001b[0m\n\u001b[1;32m     11\u001b[0m         \u001b[0;32mtry\u001b[0m\u001b[0;34m:\u001b[0m\u001b[0;34m\u001b[0m\u001b[0;34m\u001b[0m\u001b[0m\n",
      "\u001b[0;31mKeyboardInterrupt\u001b[0m: "
     ]
    }
   ],
   "source": [
    "emission_probability = []\n",
    "\n",
    "\n",
    "for state, occurrences in states_occurrences.items():\n",
    "    emission_probability_of_tag = []\n",
    "    for word in words_list:\n",
    "        count = 0\n",
    "        for word_data, tag_data in data:\n",
    "            if word == word_data and tag_data == state:\n",
    "                count += 1\n",
    "        try:\n",
    "            emission_probability_of_tag.append(count / occurrences)\n",
    "        except ZeroDivisionError:\n",
    "            continue\n",
    "    emission_probability.append(emission_probability_of_tag)"
   ]
  },
  {
   "cell_type": "code",
   "execution_count": null,
   "metadata": {},
   "outputs": [],
   "source": [
    "def viterbi(y, A, B, Pi=None):\n",
    "    # Cardinality of the state space\n",
    "    K = A.shape[0]\n",
    "\n",
    "    # Initialize the priors with default (uniform dist) if not given by caller\n",
    "    Pi = Pi if Pi is not None else np.full(K, 1 / K)\n",
    "    T = len(y)\n",
    "    T1 = np.empty((K, T), 'd')\n",
    "    T2 = np.empty((K, T), 'B')\n",
    "\n",
    "    # Initilaize the tracking tables from first observation\n",
    "    T1[:, 0] = Pi * B[:, y[0]]\n",
    "    T2[:, 0] = 0\n",
    "\n",
    "    # Iterate throught the observations updating the tracking tables\n",
    "    for i in range(1, T):\n",
    "        T1[:, i] = np.max(T1[:, i - 1] * A.T * B[np.newaxis, :, y[i]].T, 1)\n",
    "        T2[:, i] = np.argmax(T1[:, i - 1] * A.T, 1)\n",
    "\n",
    "    # Build the output, optimal model trajectory\n",
    "    x = np.empty(T, 'B')\n",
    "    x[-1] = np.argmax(T1[:, T - 1])\n",
    "    for i in reversed(range(1, T)):\n",
    "        x[i - 1] = T2[x[i], i]\n",
    "\n",
    "    return x, T1, T2"
   ]
  },
  {
   "cell_type": "code",
   "execution_count": null,
   "metadata": {},
   "outputs": [],
   "source": []
  }
 ],
 "metadata": {
  "kernelspec": {
   "display_name": "Python 3",
   "language": "python",
   "name": "python3"
  },
  "language_info": {
   "codemirror_mode": {
    "name": "ipython",
    "version": 3
   },
   "file_extension": ".py",
   "mimetype": "text/x-python",
   "name": "python",
   "nbconvert_exporter": "python",
   "pygments_lexer": "ipython3",
   "version": "3.6.7"
  }
 },
 "nbformat": 4,
 "nbformat_minor": 2
}
